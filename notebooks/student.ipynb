{
 "cells": [
  {
   "cell_type": "code",
   "execution_count": 164,
   "metadata": {},
   "outputs": [],
   "source": [
    "# import libraries\n",
    "import numpy as np\n",
    "import pandas as pd\n",
    "import sqlite3\n",
    "import seaborn as sns\n",
    "import matplotlib.pyplot as plt\n",
    "import scipy.stats as stats\n",
    "%matplotlib inline\n",
    "import statsmodels.api as sm\n",
    "from statsmodels.formula.api import ols\n",
    "import statsmodels.stats.multicomp as ssm\n",
    "from statsmodels.stats.power import tt_ind_solve_power\n",
    "\n"
   ]
  },
  {
   "cell_type": "code",
   "execution_count": null,
   "metadata": {},
   "outputs": [],
   "source": [
    "# Used function definitions\n",
    "\n",
    "def welch_t(a, b): # t-stat calculationg for 2 samples with different means \n",
    "    numerator = a.mean() - b.mean()\n",
    "    denom = np.sqrt(a.var(ddof=1)/a.size + b.var(ddof=1)/b.size)\n",
    "    \"\"\" Calculate Welch's t-statistic for two samples. \"\"\"\n",
    "    return np.abs(numerator/denom)\n",
    "\n",
    "def welch_df(a, b): # calculating this allows you to work with other variables to get a p-value!\n",
    "    \"\"\" Calculate the effective degrees of freedom for two samples. \"\"\"\n",
    "    s1 = a.var(ddof=1) \n",
    "    s2 = b.var(ddof=1)\n",
    "    n1 = a.size\n",
    "    n2 = b.size\n",
    "    \n",
    "    numerator = (s1/n1 + s2/n2)**2\n",
    "    denominator = (s1/ n1)**2/(n1 - 1) + (s2/ n2)**2/(n2 - 1)\n",
    "    \n",
    "    return numerator/denominator\n",
    "\n",
    "def p_value(a, b, two_sided=False):\n",
    "    t = welch_t(a, b)\n",
    "    df = welch_df(a, b)\n",
    "    \n",
    "    p = 1-stats.t.cdf(np.abs(t), round(df))\n",
    "    \n",
    "    if two_sided:\n",
    "        return 2*p\n",
    "    else:\n",
    "        return p\n",
    "    \n",
    "def Cohen_d(group1, group2):\n",
    "\n",
    "    # Compute Cohen's d.\n",
    "\n",
    "    # group1: Series or NumPy array\n",
    "    # group2: Series or NumPy array\n",
    "\n",
    "    # returns a floating point number \n",
    "\n",
    "    diff = group1.mean() - group2.mean()\n",
    "\n",
    "    n1, n2 = len(group1), len(group2)\n",
    "    var1 = group1.var()\n",
    "    var2 = group2.var()\n",
    "\n",
    "    # Calculate the pooled threshold as shown earlier\n",
    "    pooled_var = (n1 * var1 + n2 * var2) / (n1 + n2)\n",
    "    \n",
    "    # Calculate Cohen's d statistic\n",
    "    d = diff / np.sqrt(pooled_var)\n",
    "    \n",
    "    return abs(d)"
   ]
  },
  {
   "cell_type": "code",
   "execution_count": 165,
   "metadata": {},
   "outputs": [
    {
     "name": "stdout",
     "output_type": "stream",
     "text": [
      "                    name\n",
      "0               Employee\n",
      "1               Category\n",
      "2               Customer\n",
      "3                Shipper\n",
      "4               Supplier\n",
      "5                  Order\n",
      "6                Product\n",
      "7            OrderDetail\n",
      "8   CustomerCustomerDemo\n",
      "9    CustomerDemographic\n",
      "10                Region\n",
      "11             Territory\n",
      "12     EmployeeTerritory\n"
     ]
    }
   ],
   "source": [
    "conn = sqlite3.connect(r\"C:\\Users\\josep\\Desktop\\CourseWork\\phase_1\\Phase1\\dsc-case-study-hypothesis-testing\\data\\northWind.sqlite\")\n",
    "cur = conn.cursor()\n",
    "\n",
    "table = pd.read_sql_query(\"SELECT name FROM sqlite_master WHERE type='table'\", conn)\n",
    "print(table)"
   ]
  },
  {
   "cell_type": "code",
   "execution_count": 166,
   "metadata": {},
   "outputs": [],
   "source": [
    "# investigate data\n",
    "cur.execute(\"\"\"SELECT * \n",
    "               FROM Product\n",
    "               \"\"\")\n",
    "df = pd.DataFrame(cur.fetchall())\n",
    "df.columns = [x[0] for x in cur.description]\n"
   ]
  },
  {
   "cell_type": "code",
   "execution_count": 167,
   "metadata": {},
   "outputs": [
    {
     "data": {
      "text/html": [
       "<div>\n",
       "<style scoped>\n",
       "    .dataframe tbody tr th:only-of-type {\n",
       "        vertical-align: middle;\n",
       "    }\n",
       "\n",
       "    .dataframe tbody tr th {\n",
       "        vertical-align: top;\n",
       "    }\n",
       "\n",
       "    .dataframe thead th {\n",
       "        text-align: right;\n",
       "    }\n",
       "</style>\n",
       "<table border=\"1\" class=\"dataframe\">\n",
       "  <thead>\n",
       "    <tr style=\"text-align: right;\">\n",
       "      <th></th>\n",
       "      <th>Id</th>\n",
       "      <th>ProductName</th>\n",
       "      <th>SupplierId</th>\n",
       "      <th>CategoryId</th>\n",
       "      <th>QuantityPerUnit</th>\n",
       "      <th>UnitPrice</th>\n",
       "      <th>UnitsInStock</th>\n",
       "      <th>UnitsOnOrder</th>\n",
       "      <th>ReorderLevel</th>\n",
       "      <th>Discontinued</th>\n",
       "    </tr>\n",
       "  </thead>\n",
       "  <tbody>\n",
       "    <tr>\n",
       "      <th>0</th>\n",
       "      <td>1</td>\n",
       "      <td>Chai</td>\n",
       "      <td>1</td>\n",
       "      <td>1</td>\n",
       "      <td>10 boxes x 20 bags</td>\n",
       "      <td>18.00</td>\n",
       "      <td>39</td>\n",
       "      <td>0</td>\n",
       "      <td>10</td>\n",
       "      <td>0</td>\n",
       "    </tr>\n",
       "    <tr>\n",
       "      <th>1</th>\n",
       "      <td>2</td>\n",
       "      <td>Chang</td>\n",
       "      <td>1</td>\n",
       "      <td>1</td>\n",
       "      <td>24 - 12 oz bottles</td>\n",
       "      <td>19.00</td>\n",
       "      <td>17</td>\n",
       "      <td>40</td>\n",
       "      <td>25</td>\n",
       "      <td>0</td>\n",
       "    </tr>\n",
       "    <tr>\n",
       "      <th>2</th>\n",
       "      <td>3</td>\n",
       "      <td>Aniseed Syrup</td>\n",
       "      <td>1</td>\n",
       "      <td>2</td>\n",
       "      <td>12 - 550 ml bottles</td>\n",
       "      <td>10.00</td>\n",
       "      <td>13</td>\n",
       "      <td>70</td>\n",
       "      <td>25</td>\n",
       "      <td>0</td>\n",
       "    </tr>\n",
       "    <tr>\n",
       "      <th>3</th>\n",
       "      <td>4</td>\n",
       "      <td>Chef Anton's Cajun Seasoning</td>\n",
       "      <td>2</td>\n",
       "      <td>2</td>\n",
       "      <td>48 - 6 oz jars</td>\n",
       "      <td>22.00</td>\n",
       "      <td>53</td>\n",
       "      <td>0</td>\n",
       "      <td>0</td>\n",
       "      <td>0</td>\n",
       "    </tr>\n",
       "    <tr>\n",
       "      <th>4</th>\n",
       "      <td>5</td>\n",
       "      <td>Chef Anton's Gumbo Mix</td>\n",
       "      <td>2</td>\n",
       "      <td>2</td>\n",
       "      <td>36 boxes</td>\n",
       "      <td>21.35</td>\n",
       "      <td>0</td>\n",
       "      <td>0</td>\n",
       "      <td>0</td>\n",
       "      <td>1</td>\n",
       "    </tr>\n",
       "    <tr>\n",
       "      <th>...</th>\n",
       "      <td>...</td>\n",
       "      <td>...</td>\n",
       "      <td>...</td>\n",
       "      <td>...</td>\n",
       "      <td>...</td>\n",
       "      <td>...</td>\n",
       "      <td>...</td>\n",
       "      <td>...</td>\n",
       "      <td>...</td>\n",
       "      <td>...</td>\n",
       "    </tr>\n",
       "    <tr>\n",
       "      <th>72</th>\n",
       "      <td>73</td>\n",
       "      <td>Röd Kaviar</td>\n",
       "      <td>17</td>\n",
       "      <td>8</td>\n",
       "      <td>24 - 150 g jars</td>\n",
       "      <td>15.00</td>\n",
       "      <td>101</td>\n",
       "      <td>0</td>\n",
       "      <td>5</td>\n",
       "      <td>0</td>\n",
       "    </tr>\n",
       "    <tr>\n",
       "      <th>73</th>\n",
       "      <td>74</td>\n",
       "      <td>Longlife Tofu</td>\n",
       "      <td>4</td>\n",
       "      <td>7</td>\n",
       "      <td>5 kg pkg.</td>\n",
       "      <td>10.00</td>\n",
       "      <td>4</td>\n",
       "      <td>20</td>\n",
       "      <td>5</td>\n",
       "      <td>0</td>\n",
       "    </tr>\n",
       "    <tr>\n",
       "      <th>74</th>\n",
       "      <td>75</td>\n",
       "      <td>Rhönbräu Klosterbier</td>\n",
       "      <td>12</td>\n",
       "      <td>1</td>\n",
       "      <td>24 - 0.5 l bottles</td>\n",
       "      <td>7.75</td>\n",
       "      <td>125</td>\n",
       "      <td>0</td>\n",
       "      <td>25</td>\n",
       "      <td>0</td>\n",
       "    </tr>\n",
       "    <tr>\n",
       "      <th>75</th>\n",
       "      <td>76</td>\n",
       "      <td>Lakkalikööri</td>\n",
       "      <td>23</td>\n",
       "      <td>1</td>\n",
       "      <td>500 ml</td>\n",
       "      <td>18.00</td>\n",
       "      <td>57</td>\n",
       "      <td>0</td>\n",
       "      <td>20</td>\n",
       "      <td>0</td>\n",
       "    </tr>\n",
       "    <tr>\n",
       "      <th>76</th>\n",
       "      <td>77</td>\n",
       "      <td>Original Frankfurter grüne Soße</td>\n",
       "      <td>12</td>\n",
       "      <td>2</td>\n",
       "      <td>12 boxes</td>\n",
       "      <td>13.00</td>\n",
       "      <td>32</td>\n",
       "      <td>0</td>\n",
       "      <td>15</td>\n",
       "      <td>0</td>\n",
       "    </tr>\n",
       "  </tbody>\n",
       "</table>\n",
       "<p>77 rows × 10 columns</p>\n",
       "</div>"
      ],
      "text/plain": [
       "    Id                      ProductName  SupplierId  CategoryId  \\\n",
       "0    1                             Chai           1           1   \n",
       "1    2                            Chang           1           1   \n",
       "2    3                    Aniseed Syrup           1           2   \n",
       "3    4     Chef Anton's Cajun Seasoning           2           2   \n",
       "4    5           Chef Anton's Gumbo Mix           2           2   \n",
       "..  ..                              ...         ...         ...   \n",
       "72  73                       Röd Kaviar          17           8   \n",
       "73  74                    Longlife Tofu           4           7   \n",
       "74  75             Rhönbräu Klosterbier          12           1   \n",
       "75  76                     Lakkalikööri          23           1   \n",
       "76  77  Original Frankfurter grüne Soße          12           2   \n",
       "\n",
       "        QuantityPerUnit  UnitPrice  UnitsInStock  UnitsOnOrder  ReorderLevel  \\\n",
       "0    10 boxes x 20 bags      18.00            39             0            10   \n",
       "1    24 - 12 oz bottles      19.00            17            40            25   \n",
       "2   12 - 550 ml bottles      10.00            13            70            25   \n",
       "3        48 - 6 oz jars      22.00            53             0             0   \n",
       "4              36 boxes      21.35             0             0             0   \n",
       "..                  ...        ...           ...           ...           ...   \n",
       "72      24 - 150 g jars      15.00           101             0             5   \n",
       "73            5 kg pkg.      10.00             4            20             5   \n",
       "74   24 - 0.5 l bottles       7.75           125             0            25   \n",
       "75               500 ml      18.00            57             0            20   \n",
       "76             12 boxes      13.00            32             0            15   \n",
       "\n",
       "    Discontinued  \n",
       "0              0  \n",
       "1              0  \n",
       "2              0  \n",
       "3              0  \n",
       "4              1  \n",
       "..           ...  \n",
       "72             0  \n",
       "73             0  \n",
       "74             0  \n",
       "75             0  \n",
       "76             0  \n",
       "\n",
       "[77 rows x 10 columns]"
      ]
     },
     "execution_count": 167,
     "metadata": {},
     "output_type": "execute_result"
    }
   ],
   "source": [
    "df"
   ]
  },
  {
   "cell_type": "code",
   "execution_count": 168,
   "metadata": {},
   "outputs": [
    {
     "data": {
      "text/html": [
       "<div>\n",
       "<style scoped>\n",
       "    .dataframe tbody tr th:only-of-type {\n",
       "        vertical-align: middle;\n",
       "    }\n",
       "\n",
       "    .dataframe tbody tr th {\n",
       "        vertical-align: top;\n",
       "    }\n",
       "\n",
       "    .dataframe thead th {\n",
       "        text-align: right;\n",
       "    }\n",
       "</style>\n",
       "<table border=\"1\" class=\"dataframe\">\n",
       "  <thead>\n",
       "    <tr style=\"text-align: right;\">\n",
       "      <th></th>\n",
       "      <th>ProductId</th>\n",
       "      <th>ProductName</th>\n",
       "      <th>Quantity</th>\n",
       "      <th>Discount</th>\n",
       "    </tr>\n",
       "  </thead>\n",
       "  <tbody>\n",
       "    <tr>\n",
       "      <th>0</th>\n",
       "      <td>11</td>\n",
       "      <td>Queso Cabrales</td>\n",
       "      <td>12</td>\n",
       "      <td>0.0</td>\n",
       "    </tr>\n",
       "    <tr>\n",
       "      <th>1</th>\n",
       "      <td>42</td>\n",
       "      <td>Singaporean Hokkien Fried Mee</td>\n",
       "      <td>10</td>\n",
       "      <td>0.0</td>\n",
       "    </tr>\n",
       "    <tr>\n",
       "      <th>2</th>\n",
       "      <td>72</td>\n",
       "      <td>Mozzarella di Giovanni</td>\n",
       "      <td>5</td>\n",
       "      <td>0.0</td>\n",
       "    </tr>\n",
       "    <tr>\n",
       "      <th>3</th>\n",
       "      <td>14</td>\n",
       "      <td>Tofu</td>\n",
       "      <td>9</td>\n",
       "      <td>0.0</td>\n",
       "    </tr>\n",
       "    <tr>\n",
       "      <th>4</th>\n",
       "      <td>51</td>\n",
       "      <td>Manjimup Dried Apples</td>\n",
       "      <td>40</td>\n",
       "      <td>0.0</td>\n",
       "    </tr>\n",
       "  </tbody>\n",
       "</table>\n",
       "</div>"
      ],
      "text/plain": [
       "   ProductId                    ProductName  Quantity  Discount\n",
       "0         11                 Queso Cabrales        12       0.0\n",
       "1         42  Singaporean Hokkien Fried Mee        10       0.0\n",
       "2         72         Mozzarella di Giovanni         5       0.0\n",
       "3         14                           Tofu         9       0.0\n",
       "4         51          Manjimup Dried Apples        40       0.0"
      ]
     },
     "execution_count": 168,
     "metadata": {},
     "output_type": "execute_result"
    }
   ],
   "source": [
    "cur.execute(\"\"\"SELECT ProductId, ProductName, Quantity, Discount\n",
    "               FROM Product p\n",
    "               JOIN OrderDetail od\n",
    "               ON p.id = od.productid\"\"\")\n",
    "df = pd.DataFrame(cur.fetchall())\n",
    "df.columns = [x[0] for x in cur.description]\n",
    "df.head()"
   ]
  },
  {
   "cell_type": "code",
   "execution_count": 169,
   "metadata": {},
   "outputs": [
    {
     "data": {
      "text/plain": [
       "[(0, 'Id', 'INTEGER', 0, None, 1),\n",
       " (1, 'ProductName', 'VARCHAR(8000)', 0, None, 0),\n",
       " (2, 'SupplierId', 'INTEGER', 1, None, 0),\n",
       " (3, 'CategoryId', 'INTEGER', 1, None, 0),\n",
       " (4, 'QuantityPerUnit', 'VARCHAR(8000)', 0, None, 0),\n",
       " (5, 'UnitPrice', 'DECIMAL', 1, None, 0),\n",
       " (6, 'UnitsInStock', 'INTEGER', 1, None, 0),\n",
       " (7, 'UnitsOnOrder', 'INTEGER', 1, None, 0),\n",
       " (8, 'ReorderLevel', 'INTEGER', 1, None, 0),\n",
       " (9, 'Discontinued', 'INTEGER', 1, None, 0)]"
      ]
     },
     "execution_count": 169,
     "metadata": {},
     "output_type": "execute_result"
    }
   ],
   "source": [
    "cur.execute(\"\"\"PRAGMA table_info(Product)\"\"\").fetchall()"
   ]
  },
  {
   "cell_type": "code",
   "execution_count": 170,
   "metadata": {},
   "outputs": [
    {
     "data": {
      "text/plain": [
       "[(0, 'Id', 'INTEGER', 0, None, 1),\n",
       " (1, 'CustomerId', 'VARCHAR(8000)', 0, None, 0),\n",
       " (2, 'EmployeeId', 'INTEGER', 1, None, 0),\n",
       " (3, 'OrderDate', 'VARCHAR(8000)', 0, None, 0),\n",
       " (4, 'RequiredDate', 'VARCHAR(8000)', 0, None, 0),\n",
       " (5, 'ShippedDate', 'VARCHAR(8000)', 0, None, 0),\n",
       " (6, 'ShipVia', 'INTEGER', 0, None, 0),\n",
       " (7, 'Freight', 'DECIMAL', 1, None, 0),\n",
       " (8, 'ShipName', 'VARCHAR(8000)', 0, None, 0),\n",
       " (9, 'ShipAddress', 'VARCHAR(8000)', 0, None, 0),\n",
       " (10, 'ShipCity', 'VARCHAR(8000)', 0, None, 0),\n",
       " (11, 'ShipRegion', 'VARCHAR(8000)', 0, None, 0),\n",
       " (12, 'ShipPostalCode', 'VARCHAR(8000)', 0, None, 0),\n",
       " (13, 'ShipCountry', 'VARCHAR(8000)', 0, None, 0)]"
      ]
     },
     "execution_count": 170,
     "metadata": {},
     "output_type": "execute_result"
    }
   ],
   "source": [
    "cur.execute(\"\"\"PRAGMA table_info('Order')\"\"\").fetchall()"
   ]
  },
  {
   "cell_type": "code",
   "execution_count": 171,
   "metadata": {},
   "outputs": [
    {
     "name": "stdout",
     "output_type": "stream",
     "text": [
      "<class 'pandas.core.frame.DataFrame'>\n",
      "RangeIndex: 2155 entries, 0 to 2154\n",
      "Data columns (total 4 columns):\n",
      " #   Column       Non-Null Count  Dtype  \n",
      "---  ------       --------------  -----  \n",
      " 0   ProductId    2155 non-null   int64  \n",
      " 1   ProductName  2155 non-null   object \n",
      " 2   Quantity     2155 non-null   int64  \n",
      " 3   Discount     2155 non-null   float64\n",
      "dtypes: float64(1), int64(2), object(1)\n",
      "memory usage: 67.5+ KB\n",
      "<class 'pandas.core.frame.DataFrame'>\n",
      "Int64Index: 2147 entries, 0 to 2154\n",
      "Data columns (total 2 columns):\n",
      " #   Column    Non-Null Count  Dtype  \n",
      "---  ------    --------------  -----  \n",
      " 0   Quantity  2147 non-null   int64  \n",
      " 1   Discount  2147 non-null   float64\n",
      "dtypes: float64(1), int64(1)\n",
      "memory usage: 50.3 KB\n"
     ]
    },
    {
     "data": {
      "text/html": [
       "<div>\n",
       "<style scoped>\n",
       "    .dataframe tbody tr th:only-of-type {\n",
       "        vertical-align: middle;\n",
       "    }\n",
       "\n",
       "    .dataframe tbody tr th {\n",
       "        vertical-align: top;\n",
       "    }\n",
       "\n",
       "    .dataframe thead th {\n",
       "        text-align: right;\n",
       "    }\n",
       "</style>\n",
       "<table border=\"1\" class=\"dataframe\">\n",
       "  <thead>\n",
       "    <tr style=\"text-align: right;\">\n",
       "      <th></th>\n",
       "      <th>Quantity</th>\n",
       "    </tr>\n",
       "    <tr>\n",
       "      <th>Discount</th>\n",
       "      <th></th>\n",
       "    </tr>\n",
       "  </thead>\n",
       "  <tbody>\n",
       "    <tr>\n",
       "      <th>0.00</th>\n",
       "      <td>1317</td>\n",
       "    </tr>\n",
       "    <tr>\n",
       "      <th>0.05</th>\n",
       "      <td>185</td>\n",
       "    </tr>\n",
       "    <tr>\n",
       "      <th>0.10</th>\n",
       "      <td>173</td>\n",
       "    </tr>\n",
       "    <tr>\n",
       "      <th>0.15</th>\n",
       "      <td>157</td>\n",
       "    </tr>\n",
       "    <tr>\n",
       "      <th>0.20</th>\n",
       "      <td>161</td>\n",
       "    </tr>\n",
       "    <tr>\n",
       "      <th>0.25</th>\n",
       "      <td>154</td>\n",
       "    </tr>\n",
       "  </tbody>\n",
       "</table>\n",
       "</div>"
      ],
      "text/plain": [
       "          Quantity\n",
       "Discount          \n",
       "0.00          1317\n",
       "0.05           185\n",
       "0.10           173\n",
       "0.15           157\n",
       "0.20           161\n",
       "0.25           154"
      ]
     },
     "execution_count": 171,
     "metadata": {},
     "output_type": "execute_result"
    }
   ],
   "source": [
    "df['Discount'].unique()\n",
    "df.info()\n",
    "df = df[['Quantity','Discount']]\n",
    "df = df[df.Discount != .01]\n",
    "df = df[df.Discount != .02]\n",
    "df = df[df.Discount != .03]\n",
    "df = df[df.Discount != .04]\n",
    "df = df[df.Discount != .06]\n",
    "df.info()\n",
    "df.groupby(by='Discount').count()"
   ]
  },
  {
   "cell_type": "markdown",
   "metadata": {},
   "source": [
    "# Question 1: Is there a difference in quantity of products sold by discount rate? "
   ]
  },
  {
   "cell_type": "code",
   "execution_count": 172,
   "metadata": {},
   "outputs": [
    {
     "data": {
      "text/html": [
       "<div>\n",
       "<style scoped>\n",
       "    .dataframe tbody tr th:only-of-type {\n",
       "        vertical-align: middle;\n",
       "    }\n",
       "\n",
       "    .dataframe tbody tr th {\n",
       "        vertical-align: top;\n",
       "    }\n",
       "\n",
       "    .dataframe thead th {\n",
       "        text-align: right;\n",
       "    }\n",
       "</style>\n",
       "<table border=\"1\" class=\"dataframe\">\n",
       "  <thead>\n",
       "    <tr style=\"text-align: right;\">\n",
       "      <th></th>\n",
       "      <th>Quantity</th>\n",
       "      <th>Discount</th>\n",
       "    </tr>\n",
       "  </thead>\n",
       "  <tbody>\n",
       "    <tr>\n",
       "      <th>0</th>\n",
       "      <td>12</td>\n",
       "      <td>0.0</td>\n",
       "    </tr>\n",
       "    <tr>\n",
       "      <th>1</th>\n",
       "      <td>10</td>\n",
       "      <td>0.0</td>\n",
       "    </tr>\n",
       "    <tr>\n",
       "      <th>2</th>\n",
       "      <td>5</td>\n",
       "      <td>0.0</td>\n",
       "    </tr>\n",
       "    <tr>\n",
       "      <th>3</th>\n",
       "      <td>9</td>\n",
       "      <td>0.0</td>\n",
       "    </tr>\n",
       "    <tr>\n",
       "      <th>4</th>\n",
       "      <td>40</td>\n",
       "      <td>0.0</td>\n",
       "    </tr>\n",
       "    <tr>\n",
       "      <th>...</th>\n",
       "      <td>...</td>\n",
       "      <td>...</td>\n",
       "    </tr>\n",
       "    <tr>\n",
       "      <th>2147</th>\n",
       "      <td>2</td>\n",
       "      <td>0.0</td>\n",
       "    </tr>\n",
       "    <tr>\n",
       "      <th>2148</th>\n",
       "      <td>2</td>\n",
       "      <td>0.0</td>\n",
       "    </tr>\n",
       "    <tr>\n",
       "      <th>2151</th>\n",
       "      <td>1</td>\n",
       "      <td>0.0</td>\n",
       "    </tr>\n",
       "    <tr>\n",
       "      <th>2153</th>\n",
       "      <td>4</td>\n",
       "      <td>0.0</td>\n",
       "    </tr>\n",
       "    <tr>\n",
       "      <th>2154</th>\n",
       "      <td>2</td>\n",
       "      <td>0.0</td>\n",
       "    </tr>\n",
       "  </tbody>\n",
       "</table>\n",
       "<p>2147 rows × 2 columns</p>\n",
       "</div>"
      ],
      "text/plain": [
       "      Quantity  Discount\n",
       "0           12       0.0\n",
       "1           10       0.0\n",
       "2            5       0.0\n",
       "3            9       0.0\n",
       "4           40       0.0\n",
       "...        ...       ...\n",
       "2147         2       0.0\n",
       "2148         2       0.0\n",
       "2151         1       0.0\n",
       "2153         4       0.0\n",
       "2154         2       0.0\n",
       "\n",
       "[2147 rows x 2 columns]"
      ]
     },
     "execution_count": 172,
     "metadata": {},
     "output_type": "execute_result"
    }
   ],
   "source": [
    "# obtain necessary data\n",
    "df"
   ]
  },
  {
   "cell_type": "markdown",
   "metadata": {},
   "source": [
    "## {ANOVA Test}\n",
    "H0: For each discount rate, the mean number of products sold is the same.\n",
    "\n",
    "HA: At least one of the mean number of products sold by discount rate is different.\n",
    "\n",
    "Alpha: 0.05"
   ]
  },
  {
   "cell_type": "code",
   "execution_count": 173,
   "metadata": {},
   "outputs": [],
   "source": [
    "df_0 = df.loc[df['Discount'] == 0.00]\n",
    "df_05 = df.loc[df['Discount'] == 0.05]\n",
    "df_10 = df.loc[df['Discount'] == 0.10]\n",
    "df_15 = df.loc[df['Discount'] == 0.15]\n",
    "df_20 = df.loc[df['Discount'] == 0.20]\n",
    "df_25 = df.loc[df['Discount'] == 0.25]"
   ]
  },
  {
   "cell_type": "code",
   "execution_count": 174,
   "metadata": {},
   "outputs": [
    {
     "data": {
      "image/png": "[encoded data removed]",
      "text/plain": [
       "<Figure size 720x576 with 1 Axes>"
      ]
     },
     "metadata": {
      "needs_background": "light"
     },
     "output_type": "display_data"
    }
   ],
   "source": [
    "\n",
    "fig = plt.figure(figsize=(10,8))\n",
    "sns.distplot(df_0['Quantity'], label='0.00%')\n",
    "sns.distplot(df_05['Quantity'], label='0.05%')\n",
    "sns.distplot(df_10['Quantity'], label='0.10%')\n",
    "sns.distplot(df_15['Quantity'], label='0.15%')\n",
    "sns.distplot(df_20['Quantity'], label='0.20%')\n",
    "sns.distplot(df_25['Quantity'], label='0.25%')\n",
    "plt.title('Distribution of Order Quantity by Discount Rate')\n",
    "plt.legend()\n",
    "plt.show()"
   ]
  },
  {
   "cell_type": "code",
   "execution_count": 175,
   "metadata": {
    "scrolled": true
   },
   "outputs": [
    {
     "name": "stdout",
     "output_type": "stream",
     "text": [
      "                    sum_sq      df         F        PR(>F)\n",
      "C(Discount)   17348.854662     5.0  9.798709  2.840681e-09\n",
      "Residual     758138.565924  2141.0       NaN           NaN\n"
     ]
    }
   ],
   "source": [
    "formula = 'Quantity ~ C(Discount)'\n",
    "lm = ols(formula, df).fit()\n",
    "table = sm.stats.anova_lm(lm, typ=2)\n",
    "print(table)\n",
    "# perform test"
   ]
  },
  {
   "cell_type": "markdown",
   "metadata": {},
   "source": [
    "p is < alpha (0.05), therefore we can reject H0."
   ]
  },
  {
   "cell_type": "markdown",
   "metadata": {},
   "source": [
    "## Conclusion"
   ]
  },
  {
   "cell_type": "markdown",
   "metadata": {},
   "source": [
    "Since our p value is less than alpha, we can reject our null hypothesis. Therefore, we can conclude that there is a difference in means between the quantity of products sold and their discount rate.\n",
    "However, we cannot tell which discount rate is the most different, we only know that there is a difference. We can investigate further using a Tukey test to see which discount rate is the most different. "
   ]
  },
  {
   "cell_type": "markdown",
   "metadata": {},
   "source": [
    "## EffectSize/PowerAnalysis/Tukey Testing (if needed)"
   ]
  },
  {
   "cell_type": "code",
   "execution_count": 176,
   "metadata": {
    "scrolled": true
   },
   "outputs": [
    {
     "data": {
      "text/html": [
       "<table class=\"simpletable\">\n",
       "<caption>Multiple Comparison of Means - Tukey HSD, FWER=0.05</caption>\n",
       "<tr>\n",
       "  <th>group1</th> <th>group2</th> <th>meandiff</th>  <th>p-adj</th>  <th>lower</th>   <th>upper</th>  <th>reject</th>\n",
       "</tr>\n",
       "<tr>\n",
       "    <td>0.0</td>   <td>0.05</td>   <td>6.2955</td>   <td>0.001</td> <td>2.0814</td>  <td>10.5097</td>  <td>True</td> \n",
       "</tr>\n",
       "<tr>\n",
       "    <td>0.0</td>    <td>0.1</td>   <td>3.5217</td>  <td>0.1885</td> <td>-0.8187</td> <td>7.8622</td>   <td>False</td>\n",
       "</tr>\n",
       "<tr>\n",
       "    <td>0.0</td>   <td>0.15</td>   <td>6.6669</td>   <td>0.001</td> <td>2.1352</td>  <td>11.1986</td>  <td>True</td> \n",
       "</tr>\n",
       "<tr>\n",
       "    <td>0.0</td>    <td>0.2</td>   <td>5.3096</td>  <td>0.0096</td> <td>0.8285</td>  <td>9.7907</td>   <td>True</td> \n",
       "</tr>\n",
       "<tr>\n",
       "    <td>0.0</td>   <td>0.25</td>    <td>6.525</td>   <td>0.001</td>  <td>1.954</td>  <td>11.096</td>   <td>True</td> \n",
       "</tr>\n",
       "<tr>\n",
       "   <td>0.05</td>    <td>0.1</td>   <td>-2.7738</td>  <td>0.704</td> <td>-8.4504</td> <td>2.9028</td>   <td>False</td>\n",
       "</tr>\n",
       "<tr>\n",
       "   <td>0.05</td>   <td>0.15</td>   <td>0.3714</td>    <td>0.9</td>  <td>-5.4528</td> <td>6.1955</td>   <td>False</td>\n",
       "</tr>\n",
       "<tr>\n",
       "   <td>0.05</td>    <td>0.2</td>   <td>-0.986</td>    <td>0.9</td>  <td>-6.7708</td> <td>4.7989</td>   <td>False</td>\n",
       "</tr>\n",
       "<tr>\n",
       "   <td>0.05</td>   <td>0.25</td>   <td>0.2294</td>    <td>0.9</td>  <td>-5.6253</td> <td>6.0842</td>   <td>False</td>\n",
       "</tr>\n",
       "<tr>\n",
       "    <td>0.1</td>   <td>0.15</td>   <td>3.1452</td>  <td>0.6333</td> <td>-2.771</td>  <td>9.0613</td>   <td>False</td>\n",
       "</tr>\n",
       "<tr>\n",
       "    <td>0.1</td>    <td>0.2</td>   <td>1.7879</td>    <td>0.9</td>  <td>-4.0896</td> <td>7.6653</td>   <td>False</td>\n",
       "</tr>\n",
       "<tr>\n",
       "    <td>0.1</td>   <td>0.25</td>   <td>3.0033</td>   <td>0.677</td> <td>-2.943</td>  <td>8.9496</td>   <td>False</td>\n",
       "</tr>\n",
       "<tr>\n",
       "   <td>0.15</td>    <td>0.2</td>   <td>-1.3573</td>   <td>0.9</td>  <td>-7.3775</td> <td>4.6628</td>   <td>False</td>\n",
       "</tr>\n",
       "<tr>\n",
       "   <td>0.15</td>   <td>0.25</td>   <td>-0.1419</td>   <td>0.9</td>  <td>-6.2292</td> <td>5.9454</td>   <td>False</td>\n",
       "</tr>\n",
       "<tr>\n",
       "    <td>0.2</td>   <td>0.25</td>   <td>1.2154</td>    <td>0.9</td>  <td>-4.8343</td> <td>7.2652</td>   <td>False</td>\n",
       "</tr>\n",
       "</table>"
      ],
      "text/plain": [
       "<class 'statsmodels.iolib.table.SimpleTable'>"
      ]
     },
     "execution_count": 176,
     "metadata": {},
     "output_type": "execute_result"
    }
   ],
   "source": [
    "multicompare_discount = ssm.MultiComparison(df['Quantity'], df['Discount'])\n",
    "tukey_hsd = multicompare_discount.tukeyhsd()\n",
    "tukey_hsd.summary()"
   ]
  },
  {
   "cell_type": "markdown",
   "metadata": {},
   "source": [
    "Tukey testing provides a pairwise comparison of quantities between each combination of discounts. From the data, we can see the lowest p-adj values for the following pairs- 0%-5%, 0%-15%, and 0-25%. Therefore, we can reject the null hypothesis that the mean quantities are the same for all comparisons for 0%-5%, 0%-15%, 0%-20%, 0%-25%. Interestingly, we could not reject the null hypothesis for the pair: 0%-10%, meaning that there is likely no difference in means between these two discounts. Because of this finding, we recommend NOT giving 10% dicounts, because the sales quantity doesn't change significantly based on that discount."
   ]
  },
  {
   "cell_type": "markdown",
   "metadata": {},
   "source": [
    "# Question 2: Is there a difference in number of orders and territory? "
   ]
  },
  {
   "cell_type": "code",
   "execution_count": 177,
   "metadata": {},
   "outputs": [
    {
     "data": {
      "text/plain": [
       "array(['Western Europe', 'South America', 'Central America',\n",
       "       'North America', 'Northern Europe', 'Scandinavia',\n",
       "       'Southern Europe', 'British Isles', 'Eastern Europe'], dtype=object)"
      ]
     },
     "execution_count": 177,
     "metadata": {},
     "output_type": "execute_result"
    }
   ],
   "source": [
    "cur.execute(\"\"\"SELECT *\n",
    "               FROM 'Order' o\n",
    "               JOIN 'OrderDetail' od\n",
    "               ON o.id = od.orderid\n",
    "               \"\"\")\n",
    "df = pd.DataFrame(cur.fetchall())\n",
    "df.columns = [x[0] for x in cur.description]\n",
    "# obtain necessary data\n",
    "df.ShipRegion.unique()"
   ]
  },
  {
   "cell_type": "code",
   "execution_count": 178,
   "metadata": {},
   "outputs": [
    {
     "data": {
      "text/html": [
       "<div>\n",
       "<style scoped>\n",
       "    .dataframe tbody tr th:only-of-type {\n",
       "        vertical-align: middle;\n",
       "    }\n",
       "\n",
       "    .dataframe tbody tr th {\n",
       "        vertical-align: top;\n",
       "    }\n",
       "\n",
       "    .dataframe thead th {\n",
       "        text-align: right;\n",
       "    }\n",
       "</style>\n",
       "<table border=\"1\" class=\"dataframe\">\n",
       "  <thead>\n",
       "    <tr style=\"text-align: right;\">\n",
       "      <th></th>\n",
       "      <th>Quantity</th>\n",
       "    </tr>\n",
       "    <tr>\n",
       "      <th>ShipRegion</th>\n",
       "      <th></th>\n",
       "    </tr>\n",
       "  </thead>\n",
       "  <tbody>\n",
       "    <tr>\n",
       "      <th>British Isles</th>\n",
       "      <td>190</td>\n",
       "    </tr>\n",
       "    <tr>\n",
       "      <th>Central America</th>\n",
       "      <td>72</td>\n",
       "    </tr>\n",
       "    <tr>\n",
       "      <th>Eastern Europe</th>\n",
       "      <td>16</td>\n",
       "    </tr>\n",
       "    <tr>\n",
       "      <th>North America</th>\n",
       "      <td>427</td>\n",
       "    </tr>\n",
       "    <tr>\n",
       "      <th>Northern Europe</th>\n",
       "      <td>143</td>\n",
       "    </tr>\n",
       "    <tr>\n",
       "      <th>Scandinavia</th>\n",
       "      <td>70</td>\n",
       "    </tr>\n",
       "    <tr>\n",
       "      <th>South America</th>\n",
       "      <td>355</td>\n",
       "    </tr>\n",
       "    <tr>\n",
       "      <th>Southern Europe</th>\n",
       "      <td>137</td>\n",
       "    </tr>\n",
       "    <tr>\n",
       "      <th>Western Europe</th>\n",
       "      <td>745</td>\n",
       "    </tr>\n",
       "  </tbody>\n",
       "</table>\n",
       "</div>"
      ],
      "text/plain": [
       "                 Quantity\n",
       "ShipRegion               \n",
       "British Isles         190\n",
       "Central America        72\n",
       "Eastern Europe         16\n",
       "North America         427\n",
       "Northern Europe       143\n",
       "Scandinavia            70\n",
       "South America         355\n",
       "Southern Europe       137\n",
       "Western Europe        745"
      ]
     },
     "execution_count": 178,
     "metadata": {},
     "output_type": "execute_result"
    }
   ],
   "source": [
    "df = df[['Quantity','ShipRegion']]\n",
    "count = df.groupby(by='ShipRegion').count()\n",
    "df = df[df['ShipRegion'] != 'Eastern Europe']\n",
    "df\n",
    "count"
   ]
  },
  {
   "cell_type": "markdown",
   "metadata": {},
   "source": [
    "## {ANOVA}\n",
    "H0: The means of number of orders for each region are the same.\n",
    "\n",
    "HA: The means of number of orders for each region are different.\n",
    "\n",
    "Alpha = 0.05"
   ]
  },
  {
   "cell_type": "code",
   "execution_count": 179,
   "metadata": {},
   "outputs": [],
   "source": [
    "df_BI = df.loc[df['ShipRegion'] == 'British Isles']\n",
    "df_CA = df.loc[df['ShipRegion'] == 'Central America']\n",
    "df_NA = df.loc[df['ShipRegion'] == 'North America']\n",
    "df_SC = df.loc[df['ShipRegion'] == 'Scandinavia']\n",
    "df_SA = df.loc[df['ShipRegion'] == 'South America']\n",
    "df_SE = df.loc[df['ShipRegion'] == 'Southern Europe']\n",
    "df_WE = df.loc[df['ShipRegion'] == 'Western Europe']"
   ]
  },
  {
   "cell_type": "code",
   "execution_count": 180,
   "metadata": {},
   "outputs": [
    {
     "data": {
      "image/png": "[encoded data removed]",
      "text/plain": [
       "<Figure size 720x576 with 1 Axes>"
      ]
     },
     "metadata": {
      "needs_background": "light"
     },
     "output_type": "display_data"
    }
   ],
   "source": [
    "fig = plt.figure(figsize=(10,8))\n",
    "sns.distplot(df_BI['Quantity'], label='British Isles')\n",
    "sns.distplot(df_CA['Quantity'], label='Central America')\n",
    "sns.distplot(df_NA['Quantity'], label='North America')\n",
    "sns.distplot(df_SC['Quantity'], label='Scandinavia')\n",
    "sns.distplot(df_SA['Quantity'], label='South America')\n",
    "sns.distplot(df_SE['Quantity'], label='Southern Europe')\n",
    "sns.distplot(df_WE['Quantity'], label='Western Europe')\n",
    "\n",
    "plt.title('Distribution of Order Quantity by Region')\n",
    "plt.legend()\n",
    "plt.show()"
   ]
  },
  {
   "cell_type": "code",
   "execution_count": 181,
   "metadata": {
    "scrolled": true
   },
   "outputs": [
    {
     "name": "stdout",
     "output_type": "stream",
     "text": [
      "                      sum_sq      df          F        PR(>F)\n",
      "C(ShipRegion)   36792.090822     7.0  15.144319  1.964648e-19\n",
      "Residual       739588.451487  2131.0        NaN           NaN\n"
     ]
    }
   ],
   "source": [
    "# perform test\n",
    "formula = 'Quantity ~ C(ShipRegion)'\n",
    "lm = ols(formula, df).fit()\n",
    "table = sm.stats.anova_lm(lm, typ=2)\n",
    "print(table)\n"
   ]
  },
  {
   "cell_type": "markdown",
   "metadata": {},
   "source": [
    "Since our p-value is very close to 0 and less than alpha, we can reject our null hypothesis."
   ]
  },
  {
   "cell_type": "markdown",
   "metadata": {},
   "source": [
    "## Conclusion"
   ]
  },
  {
   "cell_type": "markdown",
   "metadata": {},
   "source": [
    "Once again, our low p value allows us to reject H0. We can conclude that there is a difference in means between number of orders and region. We cannot say where the biggest difference lies, until we run our Tukey Test (below)."
   ]
  },
  {
   "cell_type": "code",
   "execution_count": 182,
   "metadata": {
    "scrolled": false
   },
   "outputs": [
    {
     "data": {
      "text/html": [
       "<table class=\"simpletable\">\n",
       "<caption>Multiple Comparison of Means - Tukey HSD, FWER=0.05</caption>\n",
       "<tr>\n",
       "      <th>group1</th>          <th>group2</th>      <th>meandiff</th>  <th>p-adj</th>   <th>lower</th>   <th>upper</th>  <th>reject</th>\n",
       "</tr>\n",
       "<tr>\n",
       "   <td>British Isles</td>  <td>Central America</td>  <td>-9.0586</td> <td>0.0107</td> <td>-16.8805</td> <td>-1.2368</td>  <td>True</td> \n",
       "</tr>\n",
       "<tr>\n",
       "   <td>British Isles</td>   <td>North America</td>   <td>3.2018</td>  <td>0.5014</td>  <td>-1.7272</td> <td>8.1307</td>   <td>False</td>\n",
       "</tr>\n",
       "<tr>\n",
       "   <td>British Isles</td>  <td>Northern Europe</td>  <td>0.5165</td>    <td>0.9</td>   <td>-5.7407</td> <td>6.7736</td>   <td>False</td>\n",
       "</tr>\n",
       "<tr>\n",
       "   <td>British Isles</td>    <td>Scandinavia</td>    <td>-8.3519</td> <td>0.0297</td> <td>-16.2544</td> <td>-0.4494</td>  <td>True</td> \n",
       "</tr>\n",
       "<tr>\n",
       "   <td>British Isles</td>   <td>South America</td>   <td>-2.106</td>    <td>0.9</td>   <td>-7.1865</td> <td>2.9745</td>   <td>False</td>\n",
       "</tr>\n",
       "<tr>\n",
       "   <td>British Isles</td>  <td>Southern Europe</td>  <td>-8.1633</td> <td>0.0024</td> <td>-14.4982</td> <td>-1.8285</td>  <td>True</td> \n",
       "</tr>\n",
       "<tr>\n",
       "   <td>British Isles</td>  <td>Western Europe</td>   <td>3.9549</td>  <td>0.1519</td>  <td>-0.6387</td> <td>8.5485</td>   <td>False</td>\n",
       "</tr>\n",
       "<tr>\n",
       "  <td>Central America</td>  <td>North America</td>   <td>12.2604</td>  <td>0.001</td>  <td>5.0597</td>  <td>19.461</td>   <td>True</td> \n",
       "</tr>\n",
       "<tr>\n",
       "  <td>Central America</td> <td>Northern Europe</td>  <td>9.5751</td>  <td>0.0091</td>  <td>1.4076</td>  <td>17.7425</td>  <td>True</td> \n",
       "</tr>\n",
       "<tr>\n",
       "  <td>Central America</td>   <td>Scandinavia</td>    <td>0.7067</td>    <td>0.9</td>   <td>-8.7803</td> <td>10.1938</td>  <td>False</td>\n",
       "</tr>\n",
       "<tr>\n",
       "  <td>Central America</td>  <td>South America</td>   <td>6.9526</td>  <td>0.0759</td>  <td>-0.3526</td> <td>14.2579</td>  <td>False</td>\n",
       "</tr>\n",
       "<tr>\n",
       "  <td>Central America</td> <td>Southern Europe</td>  <td>0.8953</td>    <td>0.9</td>   <td>-7.3319</td> <td>9.1224</td>   <td>False</td>\n",
       "</tr>\n",
       "<tr>\n",
       "  <td>Central America</td> <td>Western Europe</td>   <td>13.0136</td>  <td>0.001</td>  <td>6.0382</td>  <td>19.989</td>   <td>True</td> \n",
       "</tr>\n",
       "<tr>\n",
       "   <td>North America</td>  <td>Northern Europe</td>  <td>-2.6853</td> <td>0.7874</td>  <td>-8.1461</td> <td>2.7755</td>   <td>False</td>\n",
       "</tr>\n",
       "<tr>\n",
       "   <td>North America</td>    <td>Scandinavia</td>   <td>-11.5536</td>  <td>0.001</td> <td>-18.8418</td> <td>-4.2655</td>  <td>True</td> \n",
       "</tr>\n",
       "<tr>\n",
       "   <td>North America</td>   <td>South America</td>   <td>-5.3078</td> <td>0.0019</td>  <td>-9.3673</td> <td>-1.2482</td>  <td>True</td> \n",
       "</tr>\n",
       "<tr>\n",
       "   <td>North America</td>  <td>Southern Europe</td> <td>-11.3651</td>  <td>0.001</td> <td>-16.9148</td> <td>-5.8154</td>  <td>True</td> \n",
       "</tr>\n",
       "<tr>\n",
       "   <td>North America</td>  <td>Western Europe</td>   <td>0.7532</td>    <td>0.9</td>   <td>-2.6775</td> <td>4.1838</td>   <td>False</td>\n",
       "</tr>\n",
       "<tr>\n",
       "  <td>Northern Europe</td>   <td>Scandinavia</td>    <td>-8.8683</td> <td>0.0247</td>  <td>-17.113</td> <td>-0.6236</td>  <td>True</td> \n",
       "</tr>\n",
       "<tr>\n",
       "  <td>Northern Europe</td>  <td>South America</td>   <td>-2.6225</td> <td>0.8296</td>  <td>-8.2205</td> <td>2.9756</td>   <td>False</td>\n",
       "</tr>\n",
       "<tr>\n",
       "  <td>Northern Europe</td> <td>Southern Europe</td>  <td>-8.6798</td> <td>0.0025</td> <td>-15.4368</td> <td>-1.9228</td>  <td>True</td> \n",
       "</tr>\n",
       "<tr>\n",
       "  <td>Northern Europe</td> <td>Western Europe</td>   <td>3.4385</td>  <td>0.4692</td>  <td>-1.7217</td> <td>8.5986</td>   <td>False</td>\n",
       "</tr>\n",
       "<tr>\n",
       "    <td>Scandinavia</td>    <td>South America</td>   <td>6.2459</td>  <td>0.1701</td>  <td>-1.1456</td> <td>13.6374</td>  <td>False</td>\n",
       "</tr>\n",
       "<tr>\n",
       "    <td>Scandinavia</td>   <td>Southern Europe</td>  <td>0.1885</td>    <td>0.9</td>   <td>-8.1153</td> <td>8.4924</td>   <td>False</td>\n",
       "</tr>\n",
       "<tr>\n",
       "    <td>Scandinavia</td>   <td>Western Europe</td>   <td>12.3068</td>  <td>0.001</td>  <td>5.2411</td>  <td>19.3725</td>  <td>True</td> \n",
       "</tr>\n",
       "<tr>\n",
       "   <td>South America</td>  <td>Southern Europe</td>  <td>-6.0573</td> <td>0.0273</td> <td>-11.7421</td> <td>-0.3726</td>  <td>True</td> \n",
       "</tr>\n",
       "<tr>\n",
       "   <td>South America</td>  <td>Western Europe</td>   <td>6.0609</td>   <td>0.001</td>  <td>2.4159</td>   <td>9.706</td>   <td>True</td> \n",
       "</tr>\n",
       "<tr>\n",
       "  <td>Southern Europe</td> <td>Western Europe</td>   <td>12.1183</td>  <td>0.001</td>  <td>6.8642</td>  <td>17.3724</td>  <td>True</td> \n",
       "</tr>\n",
       "</table>"
      ],
      "text/plain": [
       "<class 'statsmodels.iolib.table.SimpleTable'>"
      ]
     },
     "execution_count": 182,
     "metadata": {},
     "output_type": "execute_result"
    }
   ],
   "source": [
    "multicompare_discount = ssm.MultiComparison(df['Quantity'], df['ShipRegion'])\n",
    "tukey_hsd = multicompare_discount.tukeyhsd()\n",
    "tukey_hsd.summary()"
   ]
  },
  {
   "cell_type": "markdown",
   "metadata": {},
   "source": [
    "If we look at the order quantity by region, we can easily see that North America and Western Europe have the highest number of data. When we run the Tukey Test, we can see that the null hypothesis (no difference in means) is often rejected when any region compared to Western Europe or North America. For those two regions compared specifically to each other, our Tukey test tells us that we cannot reject the null hypothesis, indicating that they have similar mean order quantity. We recommend taking a further look at the mean order quantity between North America and Western Europe in order to determine whether or not there is a statistical difference."
   ]
  },
  {
   "cell_type": "code",
   "execution_count": null,
   "metadata": {},
   "outputs": [],
   "source": []
  },
  {
   "cell_type": "markdown",
   "metadata": {},
   "source": [
    "# Question 3: Is there a significant difference in mean orders between North America or Western Europe?"
   ]
  },
  {
   "cell_type": "code",
   "execution_count": 183,
   "metadata": {},
   "outputs": [],
   "source": [
    "# obtain necessary data"
   ]
  },
  {
   "cell_type": "code",
   "execution_count": 184,
   "metadata": {},
   "outputs": [
    {
     "name": "stdout",
     "output_type": "stream",
     "text": [
      "                  Quantity\n",
      "ShipRegion                \n",
      "British Isles    23.294737\n",
      "Central America  14.236111\n",
      "North America    26.496487\n",
      "Northern Europe  23.811189\n",
      "Scandinavia      14.942857\n",
      "South America    21.188732\n",
      "Southern Europe  15.131387\n",
      "Western Europe   27.249664\n"
     ]
    }
   ],
   "source": [
    "mean = df.groupby(by='ShipRegion').mean()\n",
    "print(mean)\n",
    "df_na = df.loc[df['ShipRegion'] == 'North America']\n",
    "df_we = df.loc[df['ShipRegion'] == 'Western Europe']\n"
   ]
  },
  {
   "cell_type": "code",
   "execution_count": 185,
   "metadata": {},
   "outputs": [
    {
     "name": "stdout",
     "output_type": "stream",
     "text": [
      "                  Quantity\n",
      "ShipRegion                \n",
      "British Isles    23.294737\n",
      "Central America  14.236111\n",
      "North America    26.496487\n",
      "Northern Europe  23.811189\n",
      "Scandinavia      14.942857\n",
      "South America    21.188732\n",
      "Southern Europe  15.131387\n",
      "Western Europe   27.249664\n"
     ]
    }
   ],
   "source": [
    "print(mean)"
   ]
  },
  {
   "cell_type": "markdown",
   "metadata": {},
   "source": [
    "## {Two-tailed T-Test}\n",
    "H0: The mean orders between North America and Western Europe are the same.\n",
    "\n",
    "HA: The mean order in North America and Western Europe are different.\n",
    "\n",
    "Alpha: 0.05"
   ]
  },
  {
   "cell_type": "code",
   "execution_count": 186,
   "metadata": {},
   "outputs": [
    {
     "data": {
      "image/png": "[encoded data removed]",
      "text/plain": [
       "<Figure size 720x576 with 1 Axes>"
      ]
     },
     "metadata": {
      "needs_background": "light"
     },
     "output_type": "display_data"
    }
   ],
   "source": [
    "fig = plt.figure(figsize=(10,8))\n",
    "sns.distplot(df_na['Quantity'], label='North America')\n",
    "sns.distplot(df_we['Quantity'], label='Western Europe')\n",
    "plt.title('Distributions of Order Quantity for NA and WE')\n",
    "plt.legend()\n",
    "plt.show()\n"
   ]
  },
  {
   "cell_type": "code",
   "execution_count": 188,
   "metadata": {},
   "outputs": [
    {
     "data": {
      "text/plain": [
       "0.5729319587917252"
      ]
     },
     "execution_count": 188,
     "metadata": {},
     "output_type": "execute_result"
    }
   ],
   "source": [
    "\n",
    "p = p_value(df_na['Quantity'], df_we['Quantity'], two_sided=True)\n",
    "p                                               "
   ]
  },
  {
   "cell_type": "markdown",
   "metadata": {},
   "source": [
    "## Conclusion"
   ]
  },
  {
   "cell_type": "markdown",
   "metadata": {},
   "source": [
    "In conclusion, our p value is greater than alpha, meaning that we failed to reject our null hypothesis. The mean number of orders for North America and Western Europe are NOT different. "
   ]
  },
  {
   "cell_type": "markdown",
   "metadata": {},
   "source": [
    "## EffectSize/PowerAnalysis/Tukey Testing (if needed)"
   ]
  },
  {
   "cell_type": "code",
   "execution_count": 191,
   "metadata": {},
   "outputs": [
    {
     "data": {
      "text/plain": [
       "0.03493509462200122"
      ]
     },
     "execution_count": 191,
     "metadata": {},
     "output_type": "execute_result"
    }
   ],
   "source": [
    "effect_size = Cohen_d(df_na['Quantity'], df_we['Quantity'])\n",
    "effect_size"
   ]
  },
  {
   "cell_type": "code",
   "execution_count": 192,
   "metadata": {},
   "outputs": [
    {
     "data": {
      "text/plain": [
       "(427, 2)"
      ]
     },
     "execution_count": 192,
     "metadata": {},
     "output_type": "execute_result"
    }
   ],
   "source": [
    "df_na.shape"
   ]
  },
  {
   "cell_type": "code",
   "execution_count": 193,
   "metadata": {},
   "outputs": [
    {
     "data": {
      "text/plain": [
       "(745, 2)"
      ]
     },
     "execution_count": 193,
     "metadata": {},
     "output_type": "execute_result"
    }
   ],
   "source": [
    "df_we.shape"
   ]
  },
  {
   "cell_type": "code",
   "execution_count": 194,
   "metadata": {},
   "outputs": [
    {
     "data": {
      "text/plain": [
       "0.0802766124570253"
      ]
     },
     "execution_count": 194,
     "metadata": {},
     "output_type": "execute_result"
    }
   ],
   "source": [
    "power = tt_ind_solve_power(effect_size=effect_size,\n",
    "                           nobs1=df_na.shape[0],\n",
    "                           alpha=0.05)\n",
    "power"
   ]
  },
  {
   "cell_type": "markdown",
   "metadata": {},
   "source": [
    "This small effect size (<0.2) reinforces our previous finding that the means between North America and Western Europe product orders are the same. These two means differ by less than 0.2 standard deviations (AKA they are close together) indicating that their difference is trivial.\n",
    "\n",
    "Power is only 0.08, and it is extremely low due to our small effect size. This means there is a strong probability of a type II error. Since we failed to reject our null hypothesis in this test, it makes sense that we have low power. "
   ]
  },
  {
   "cell_type": "markdown",
   "metadata": {},
   "source": [
    "## **Findings/Actionable Insights:**\n",
    "There is no significant difference between mean number of orders in North America and Western Europe. They are the two regions with the highest mean number of orders, compared to all other regions. Therefore, when allocating budgets, we should consider this finding and potentially allocate an even amount of resources between the two of them. We should further investigate what is causing Scandinavia and Central America to have such low per order item quantities. Finally, we can also investigate which regions, if any, are not seeing increased item quantity as a result of the 10% discount.  "
   ]
  }
 ],
 "metadata": {
  "kernelspec": {
   "display_name": "Python 3",
   "language": "python",
   "name": "python3"
  },
  "language_info": {
   "codemirror_mode": {
    "name": "ipython",
    "version": 3
   },
   "file_extension": ".py",
   "mimetype": "text/x-python",
   "name": "python",
   "nbconvert_exporter": "python",
   "pygments_lexer": "ipython3",
   "version": "3.8.3"
  }
 },
 "nbformat": 4,
 "nbformat_minor": 2
}
